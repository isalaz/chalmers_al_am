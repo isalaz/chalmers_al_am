{
 "cells": [
  {
   "cell_type": "code",
   "execution_count": 3,
   "metadata": {},
   "outputs": [],
   "source": [
    "import h5py\n",
    "import os"
   ]
  },
  {
   "cell_type": "code",
   "execution_count": 9,
   "metadata": {},
   "outputs": [],
   "source": [
    "root_path = \"/data/lazari/data/chalmers_al_am/Al_AM_P06\"\n",
    "sample_name = \"06_alloy_C_lamella_B_exsitu_roco\"\n",
    "scan_nr = 'scan_00288'\n",
    "metadata_path = os.path.join(root_path, 'raw', sample_name, f'{scan_nr}.nxs')"
   ]
  },
  {
   "cell_type": "code",
   "execution_count": 42,
   "metadata": {},
   "outputs": [],
   "source": [
    "stage_params = {}\n",
    "with h5py.File(metadata_path) as f:\n",
    "    stage_group = f['/scan/sample/transformations']\n",
    "    for param in stage_group:\n",
    "        stage_params[param] = {'value':stage_group[param][0], 'units':stage_group[param].attrs['units']}\n",
    "     \n",
    "        "
   ]
  },
  {
   "cell_type": "code",
   "execution_count": 45,
   "metadata": {},
   "outputs": [
    {
     "name": "stdout",
     "output_type": "stream",
     "text": [
      "cent1\n",
      " -0.000193\n",
      " mm\n",
      "cent2\n",
      " -0.001272\n",
      " mm\n",
      "phi\n",
      " -1.5e-05\n",
      " deg\n",
      "x\n",
      " 2.9203124999999943\n",
      " mm\n",
      "x_piezo\n",
      " 50.001966\n",
      " um\n",
      "x_vpiezo\n",
      " 50.003752\n",
      " um\n",
      "y\n",
      " 11.165000000000003\n",
      " mm\n",
      "y_piezo\n",
      " 39.730492\n",
      " um\n",
      "y_vpiezo\n",
      " 39.734279\n",
      " um\n",
      "z\n",
      " 9.030078125\n",
      " mm\n",
      "z_piezo\n",
      " 49.996907\n",
      " um\n",
      "z_vpiezo\n",
      " 50.000049\n",
      " um\n"
     ]
    }
   ],
   "source": [
    "for param in stage_params:\n",
    "    print(param)\n",
    "    print(' ' + str(stage_params[param]['value']))\n",
    "    print(' ' + str(stage_params[param]['units']))"
   ]
  }
 ],
 "metadata": {
  "kernelspec": {
   "display_name": "chalmers_al_am",
   "language": "python",
   "name": "python3"
  },
  "language_info": {
   "codemirror_mode": {
    "name": "ipython",
    "version": 3
   },
   "file_extension": ".py",
   "mimetype": "text/x-python",
   "name": "python",
   "nbconvert_exporter": "python",
   "pygments_lexer": "ipython3",
   "version": "3.11.6"
  },
  "orig_nbformat": 4
 },
 "nbformat": 4,
 "nbformat_minor": 2
}
